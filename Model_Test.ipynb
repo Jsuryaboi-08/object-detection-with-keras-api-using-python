{
  "nbformat": 4,
  "nbformat_minor": 0,
  "metadata": {
    "colab": {
      "provenance": [],
      "authorship_tag": "ABX9TyObVir8qzmz+r4nOwiTLck7"
    },
    "kernelspec": {
      "name": "python3",
      "display_name": "Python 3"
    },
    "language_info": {
      "name": "python"
    }
  },
  "cells": [
    {
      "cell_type": "code",
      "source": [
        "from google.colab import drive\n",
        "drive.mount('/content/drive')"
      ],
      "metadata": {
        "colab": {
          "base_uri": "https://localhost:8080/"
        },
        "id": "4ihsidkrej6s",
        "outputId": "8116b094-ca04-4f9c-bfe6-f83fa9ce1257"
      },
      "execution_count": null,
      "outputs": [
        {
          "output_type": "stream",
          "name": "stdout",
          "text": [
            "Mounted at /content/drive\n"
          ]
        }
      ]
    },
    {
      "cell_type": "code",
      "execution_count": null,
      "metadata": {
        "colab": {
          "base_uri": "https://localhost:8080/"
        },
        "id": "8a6l0kwueDyJ",
        "outputId": "428a708f-350b-4f01-8eb0-d81e9ac1c738"
      },
      "outputs": [
        {
          "output_type": "stream",
          "name": "stdout",
          "text": [
            "313/313 [==============================] - 7s 22ms/step - loss: 1.6110 - accuracy: 0.4270\n",
            "Test Loss:  1.610979676246643\n",
            "Test accuracy:  0.4269999861717224\n",
            "1/1 [==============================] - 0s 66ms/step\n",
            "[[0.0365198  0.06684937 0.08806223 0.32667542 0.03236544 0.22568563\n",
            "  0.0959645  0.00693785 0.09912691 0.02181287]]\n",
            "1/1 [==============================] - 0s 26ms/step\n",
            "Prediction: cat\n"
          ]
        }
      ],
      "source": [
        "from keras.datasets import cifar10\n",
        "import keras.utils as utils\n",
        "from keras.models import load_model\n",
        "import numpy as np\n",
        "\n",
        "labels =[\"airplane\",\"automobile\",\"bird\",\"cat\",\"deer\",\"dog\",\"frog\",\"horse\",\"ship\",\"truck\"]\n",
        "(_,_), (x_test, y_test) = cifar10.load_data()\n",
        "x_test = x_test.astype('float32') / 255.0\n",
        "y_test = utils.to_categorical(y_test)\n",
        "\n",
        "model = load_model(filepath='/content/drive/MyDrive/Cifar-10 dataset/Image_classifier.h5')\n",
        "\n",
        "results = model.evaluate(x=x_test , y=y_test)\n",
        "print(\"Test Loss: \", results[0])\n",
        "print(\"Test accuracy: \", results[1])\n",
        "\n",
        "test_image_data = np.asarray([x_test[0]])\n",
        "\n",
        "print(model.predict(x=test_image_data))\n",
        "\n",
        "prediction = model.predict(x=test_image_data)\n",
        "max_index = np.argmax(prediction[0])\n",
        "print(\"Prediction:\", labels[max_index])"
      ]
    }
  ]
}